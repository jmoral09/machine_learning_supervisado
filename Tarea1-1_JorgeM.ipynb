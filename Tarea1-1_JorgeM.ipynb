{
 "cells": [
  {
   "cell_type": "markdown",
   "id": "1324aa9c",
   "metadata": {},
   "source": [
    "## Tarea 1-1. Regresión por Gradiente.\n",
    "\n",
    "### Jorge Morales Pérez."
   ]
  },
  {
   "cell_type": "markdown",
   "id": "0c09bcd9",
   "metadata": {},
   "source": [
    "El objetivo de esta práctica es el de hallar los parámetros de la recta $y=mx+b$ que mejor se adapte a unos puntos o muestras ($X$ e $y$) empleando el método de descenso por el gradiente.\n",
    "\n",
    "Comprobaremos el funcionamiento del algoritmo con los siguientes puntos:"
   ]
  },
  {
   "cell_type": "code",
   "execution_count": 43,
   "id": "cc05cf5b",
   "metadata": {},
   "outputs": [
    {
     "data": {
      "image/png": "[encoded data removed]",
      "text/plain": [
       "<Figure size 432x288 with 1 Axes>"
      ]
     },
     "metadata": {
      "needs_background": "light"
     },
     "output_type": "display_data"
    }
   ],
   "source": [
    "import numpy as np\n",
    "import matplotlib.pyplot as plt\n",
    "\n",
    "numberOfSamples = 30\n",
    "\n",
    "mu, sigma = 0, 1 # mean and standard deviation\n",
    "noise = np.random.normal(mu, sigma, numberOfSamples)\n",
    "\n",
    "X = np.random.rand(numberOfSamples)*5\n",
    "y = 2*X + 1 + noise\n",
    " \n",
    "plt.axis([0, 5, 0, 12])\n",
    "plt.plot(X,y,'bo')\n",
    "plt.show()"
   ]
  },
  {
   "cell_type": "markdown",
   "id": "e8754590",
   "metadata": {},
   "source": [
    "Procedemos con la elaboración del algoritmo:"
   ]
  },
  {
   "cell_type": "code",
   "execution_count": 55,
   "id": "1d0e66a8",
   "metadata": {},
   "outputs": [
    {
     "name": "stdout",
     "output_type": "stream",
     "text": [
      "b = 1.4323340845503094 ,  m = 1.9037014684241387\n",
      "Ecuacion de la recta: y = 1.9037014684241387 * X + 1.4323340845503094\n",
      "error = 37.1955114952048\n"
     ]
    }
   ],
   "source": [
    "# Definimos la funcion del error E:\n",
    "def error(X, y, m, b):\n",
    "    E = np.sum((m*X+b-y)**2)\n",
    "    return E\n",
    "\n",
    "# Definimos las siguientes funciones auxiliares que emplearemos en el algoritmo:\n",
    "# Derivada parcial de E respecto de m:\n",
    "def dm(X,y,m,b):\n",
    "    devm = np.sum(2*(m*X+b-y)*X)\n",
    "    return devm\n",
    "\n",
    "# Derivada parcial de E respecto de b\n",
    "def db(X,y,m,b):\n",
    "    devm = np.sum(2*(m*X+b-y))\n",
    "    return devm\n",
    "\n",
    "# Actualizacion de los parametros\n",
    "def update(param, derivparam, l):\n",
    "    return param - l*derivparam\n",
    "     \n",
    "    \n",
    "#Definimos el algoritmo del método de descenso por el gradiente:\n",
    "def descensograd(X,y,b,m,l,ite):\n",
    "    k=0\n",
    "    while  k<ite:\n",
    "        deriv_m = dm(X,y,m,b) #hallamos la derivada parcial de E respecto de m\n",
    "        deriv_b = db(X,y,m,b) #hallamos la derivada parcial de E respecto de b\n",
    "        m = update(m, deriv_m, l)    #Actualizamos el parametro m\n",
    "        b = update(b, deriv_b, l)    #Actualizamos el parametro b\n",
    "        k = k+1\n",
    "    return b,m    \n",
    "\n",
    "# Los parametros de entrada del algoritmo son:\n",
    "l = 0.001           # Parametro de aprendizaje (lambda)\n",
    "ite = 100000        # Numero de iteraciones del algoritmo\n",
    "b = 0               # Valor inicial del parametro b\n",
    "m = 1               # Valor inicial del parametro m \n",
    "\n",
    "# Ejecutamos la funcion:\n",
    "b,m = descensograd(X,y,b,m,l,ite)\n",
    "print('b =', b, ',  m =', m)\n",
    "print('Ecuacion de la recta: y =', m,'* X +',b)\n",
    "print('error =' , error(X, y, m, b))"
   ]
  },
  {
   "cell_type": "markdown",
   "id": "eb22b2a8",
   "metadata": {},
   "source": [
    "Finalmente, comprobamos que la recta generada es coherente con los puntos del plano que tenemos:"
   ]
  },
  {
   "cell_type": "code",
   "execution_count": 56,
   "id": "e977f198",
   "metadata": {},
   "outputs": [
    {
     "data": {
      "image/png": "[encoded data removed]",
      "text/plain": [
       "<Figure size 432x288 with 1 Axes>"
      ]
     },
     "metadata": {
      "needs_background": "light"
     },
     "output_type": "display_data"
    }
   ],
   "source": [
    "plt.figure()\n",
    "\n",
    "plt.plot(X,y,'bo')\n",
    "u = np.linspace(0, 5, 50)\n",
    "v = m*u + b\n",
    "plt.plot(u,v)\n",
    "\n",
    "\n",
    "plt.show()"
   ]
  },
  {
   "cell_type": "code",
   "execution_count": null,
   "id": "c7144643",
   "metadata": {},
   "outputs": [],
   "source": []
  }
 ],
 "metadata": {
  "kernelspec": {
   "display_name": "Python 3 (ipykernel)",
   "language": "python",
   "name": "python3"
  },
  "language_info": {
   "codemirror_mode": {
    "name": "ipython",
    "version": 3
   },
   "file_extension": ".py",
   "mimetype": "text/x-python",
   "name": "python",
   "nbconvert_exporter": "python",
   "pygments_lexer": "ipython3",
   "version": "3.9.7"
  }
 },
 "nbformat": 4,
 "nbformat_minor": 5
}
